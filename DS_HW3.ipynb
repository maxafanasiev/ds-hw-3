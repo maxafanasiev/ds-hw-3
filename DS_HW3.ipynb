{
 "cells": [
  {
   "cell_type": "markdown",
   "id": "43dd6c28",
   "metadata": {},
   "source": [
    "# Домашнє завдання"
   ]
  },
  {
   "cell_type": "code",
   "execution_count": 1,
   "id": "4011370a",
   "metadata": {
    "ExecuteTime": {
     "end_time": "2023-10-28T19:34:11.777199Z",
     "start_time": "2023-10-28T19:34:08.006444Z"
    }
   },
   "outputs": [],
   "source": [
    "import pandas as pd\n",
    "import numpy as np\n",
    "from sklearn.linear_model import LinearRegression"
   ]
  },
  {
   "cell_type": "markdown",
   "id": "ec296134",
   "metadata": {},
   "source": [
    "### напишіть функцію гіпотези лінійної регресії у векторному вигляді;"
   ]
  },
  {
   "cell_type": "code",
   "execution_count": 2,
   "id": "a0950995",
   "metadata": {
    "ExecuteTime": {
     "end_time": "2023-10-28T19:34:11.819070Z",
     "start_time": "2023-10-28T19:34:11.782602Z"
    }
   },
   "outputs": [
    {
     "name": "stdout",
     "output_type": "stream",
     "text": [
      "Результат гіпотези: [5 8]\n"
     ]
    }
   ],
   "source": [
    "def h(w, x):\n",
    "    return w[0] + w[1] * x\n",
    "\n",
    "w = np.array([3, 1]) \n",
    "x = np.array([2, 5]) \n",
    "result = h(w, x)\n",
    "print(\"Результат гіпотези:\", result)"
   ]
  },
  {
   "cell_type": "markdown",
   "id": "61bcb231",
   "metadata": {},
   "source": [
    "### створіть функцію для обчислення функції втрат у векторному вигляді;"
   ]
  },
  {
   "cell_type": "code",
   "execution_count": 3,
   "id": "2b2683dc",
   "metadata": {
    "ExecuteTime": {
     "end_time": "2023-10-28T19:34:11.819579Z",
     "start_time": "2023-10-28T19:34:11.793109Z"
    }
   },
   "outputs": [
    {
     "name": "stdout",
     "output_type": "stream",
     "text": [
      "Функція втрат MSE: 17.2\n"
     ]
    }
   ],
   "source": [
    "def mean_squared_error(w, x, y):\n",
    "    m = len(x)  \n",
    "    predictions = h(w, x)  \n",
    "    mse = np.sum((predictions - y)**2) / m\n",
    "    return mse\n",
    "\n",
    "x = np.array([1, 2, 3, 4, 5]) \n",
    "y = np.array([2, 4, 5, 4, 5]) \n",
    "\n",
    "w = np.array([0.0, 0.0])\n",
    "\n",
    "loss = mean_squared_error(w, x, y)\n",
    "\n",
    "print(\"Функція втрат MSE:\", loss)"
   ]
  },
  {
   "cell_type": "markdown",
   "id": "acde82d9",
   "metadata": {},
   "source": [
    "### реалізуйте один крок градієнтного спуску;"
   ]
  },
  {
   "cell_type": "code",
   "execution_count": 4,
   "id": "a86d2709",
   "metadata": {
    "ExecuteTime": {
     "end_time": "2023-10-28T19:34:11.921625Z",
     "start_time": "2023-10-28T19:34:11.799420Z"
    }
   },
   "outputs": [
    {
     "name": "stdout",
     "output_type": "stream",
     "text": [
      "Оновлені ваги: [0.04  0.132]\n"
     ]
    }
   ],
   "source": [
    "def gradient_descent_step(w, x, y, learning_rate):\n",
    "    m = len(x)\n",
    "    \n",
    "    gradient_w0 = (1/m) * np.sum(h(w, x) - y)\n",
    "    gradient_w1 = (1/m) * np.sum((h(w, x) - y) * x)\n",
    "    \n",
    "    w[0] -= learning_rate * gradient_w0\n",
    "    w[1] -= learning_rate * gradient_w1\n",
    "\n",
    "    return w\n",
    "\n",
    "\n",
    "x = np.array([1, 2, 3, 4, 5])  \n",
    "y = np.array([2, 4, 5, 4, 5]) \n",
    "\n",
    "\n",
    "w = np.array([0.0, 0.0])  \n",
    "\n",
    "learning_rate = 0.01\n",
    "w = gradient_descent_step(w, x, y, learning_rate)\n",
    "\n",
    "print(\"Оновлені ваги:\", w)"
   ]
  },
  {
   "cell_type": "markdown",
   "id": "69eae042",
   "metadata": {},
   "source": [
    "### знайдіть найкращі параметри для датасету прогнозуючу ціну на будинок залежно від площі, кількості ванних кімнат та кількості спалень;"
   ]
  },
  {
   "cell_type": "code",
   "execution_count": 5,
   "id": "2ce06f57",
   "metadata": {
    "ExecuteTime": {
     "end_time": "2023-10-28T19:34:11.955378Z",
     "start_time": "2023-10-28T19:34:11.806332Z"
    }
   },
   "outputs": [
    {
     "data": {
      "text/plain": "      price  area  bedrooms  bathrooms  stories mainroad guestroom basement  \\\n0  13300000  7420         4          2        3      yes        no       no   \n1  12250000  8960         4          4        4      yes        no       no   \n2  12250000  9960         3          2        2      yes        no      yes   \n3  12215000  7500         4          2        2      yes        no      yes   \n4  11410000  7420         4          1        2      yes       yes      yes   \n\n  hotwaterheating airconditioning  parking prefarea furnishingstatus  \n0              no             yes        2      yes        furnished  \n1              no             yes        3       no        furnished  \n2              no              no        2      yes   semi-furnished  \n3              no             yes        3      yes        furnished  \n4              no             yes        2       no        furnished  ",
      "text/html": "<div>\n<style scoped>\n    .dataframe tbody tr th:only-of-type {\n        vertical-align: middle;\n    }\n\n    .dataframe tbody tr th {\n        vertical-align: top;\n    }\n\n    .dataframe thead th {\n        text-align: right;\n    }\n</style>\n<table border=\"1\" class=\"dataframe\">\n  <thead>\n    <tr style=\"text-align: right;\">\n      <th></th>\n      <th>price</th>\n      <th>area</th>\n      <th>bedrooms</th>\n      <th>bathrooms</th>\n      <th>stories</th>\n      <th>mainroad</th>\n      <th>guestroom</th>\n      <th>basement</th>\n      <th>hotwaterheating</th>\n      <th>airconditioning</th>\n      <th>parking</th>\n      <th>prefarea</th>\n      <th>furnishingstatus</th>\n    </tr>\n  </thead>\n  <tbody>\n    <tr>\n      <th>0</th>\n      <td>13300000</td>\n      <td>7420</td>\n      <td>4</td>\n      <td>2</td>\n      <td>3</td>\n      <td>yes</td>\n      <td>no</td>\n      <td>no</td>\n      <td>no</td>\n      <td>yes</td>\n      <td>2</td>\n      <td>yes</td>\n      <td>furnished</td>\n    </tr>\n    <tr>\n      <th>1</th>\n      <td>12250000</td>\n      <td>8960</td>\n      <td>4</td>\n      <td>4</td>\n      <td>4</td>\n      <td>yes</td>\n      <td>no</td>\n      <td>no</td>\n      <td>no</td>\n      <td>yes</td>\n      <td>3</td>\n      <td>no</td>\n      <td>furnished</td>\n    </tr>\n    <tr>\n      <th>2</th>\n      <td>12250000</td>\n      <td>9960</td>\n      <td>3</td>\n      <td>2</td>\n      <td>2</td>\n      <td>yes</td>\n      <td>no</td>\n      <td>yes</td>\n      <td>no</td>\n      <td>no</td>\n      <td>2</td>\n      <td>yes</td>\n      <td>semi-furnished</td>\n    </tr>\n    <tr>\n      <th>3</th>\n      <td>12215000</td>\n      <td>7500</td>\n      <td>4</td>\n      <td>2</td>\n      <td>2</td>\n      <td>yes</td>\n      <td>no</td>\n      <td>yes</td>\n      <td>no</td>\n      <td>yes</td>\n      <td>3</td>\n      <td>yes</td>\n      <td>furnished</td>\n    </tr>\n    <tr>\n      <th>4</th>\n      <td>11410000</td>\n      <td>7420</td>\n      <td>4</td>\n      <td>1</td>\n      <td>2</td>\n      <td>yes</td>\n      <td>yes</td>\n      <td>yes</td>\n      <td>no</td>\n      <td>yes</td>\n      <td>2</td>\n      <td>no</td>\n      <td>furnished</td>\n    </tr>\n  </tbody>\n</table>\n</div>"
     },
     "execution_count": 5,
     "metadata": {},
     "output_type": "execute_result"
    }
   ],
   "source": [
    "df = pd.read_csv('Housing.csv')\n",
    "df.head()"
   ]
  },
  {
   "cell_type": "code",
   "execution_count": 6,
   "id": "a82c6ec8",
   "metadata": {
    "ExecuteTime": {
     "end_time": "2023-10-28T19:34:11.958258Z",
     "start_time": "2023-10-28T19:34:11.843177Z"
    }
   },
   "outputs": [
    {
     "data": {
      "text/plain": "array([3.78762754e+02, 4.06820034e+05, 1.38604950e+06])"
     },
     "execution_count": 6,
     "metadata": {},
     "output_type": "execute_result"
    }
   ],
   "source": [
    "X = df[['area', 'bedrooms', 'bathrooms']]\n",
    "y = df['price']\n",
    "\n",
    "model = LinearRegression()\n",
    "model.fit(X, y)\n",
    "\n",
    "w = model.coef_\n",
    "w"
   ]
  },
  {
   "cell_type": "markdown",
   "id": "1c3ba0ba",
   "metadata": {},
   "source": [
    "### знайдіть ці ж параметри за допомогою аналітичного рішення;"
   ]
  },
  {
   "cell_type": "code",
   "execution_count": 11,
   "id": "aecb527f",
   "metadata": {
    "ExecuteTime": {
     "end_time": "2023-10-28T19:38:35.043205Z",
     "start_time": "2023-10-28T19:38:34.977942Z"
    }
   },
   "outputs": [
    {
     "data": {
      "text/plain": "array([3.78762754e+02, 4.06820034e+05, 1.38604950e+06])"
     },
     "execution_count": 11,
     "metadata": {},
     "output_type": "execute_result"
    }
   ],
   "source": [
    "X = df[['area', 'bedrooms', 'bathrooms']]\n",
    "y = df['price']\n",
    "\n",
    "X = X.copy()\n",
    "X['bias'] = 1\n",
    "\n",
    "w1 = np.linalg.inv(X.T.dot(X)).dot(X.T).dot(y)\n",
    "w1 = w1[:-1] \n",
    "\n",
    "w1"
   ]
  },
  {
   "cell_type": "markdown",
   "source": [
    "### Порівняйте отримані результати."
   ],
   "metadata": {
    "collapsed": false
   },
   "id": "92486880b32175af"
  },
  {
   "cell_type": "code",
   "execution_count": 14,
   "outputs": [
    {
     "data": {
      "text/plain": "array([ True,  True,  True])"
     },
     "execution_count": 14,
     "metadata": {},
     "output_type": "execute_result"
    }
   ],
   "source": [
    "w == w1"
   ],
   "metadata": {
    "collapsed": false,
    "ExecuteTime": {
     "end_time": "2023-10-28T19:41:12.668357Z",
     "start_time": "2023-10-28T19:41:12.301254Z"
    }
   },
   "id": "46cb3d7c63c74c20"
  },
  {
   "cell_type": "code",
   "execution_count": null,
   "outputs": [],
   "source": [],
   "metadata": {
    "collapsed": false
   },
   "id": "4bf92b9f9b9e00df"
  }
 ],
 "metadata": {
  "kernelspec": {
   "display_name": "Python 3 (ipykernel)",
   "language": "python",
   "name": "python3"
  },
  "language_info": {
   "codemirror_mode": {
    "name": "ipython",
    "version": 3
   },
   "file_extension": ".py",
   "mimetype": "text/x-python",
   "name": "python",
   "nbconvert_exporter": "python",
   "pygments_lexer": "ipython3",
   "version": "3.9.7"
  }
 },
 "nbformat": 4,
 "nbformat_minor": 5
}
